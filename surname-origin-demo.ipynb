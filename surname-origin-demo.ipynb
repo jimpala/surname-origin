{
 "cells": [
  {
   "cell_type": "markdown",
   "metadata": {},
   "source": [
    "# surname-origin // Notebook Demo"
   ]
  },
  {
   "cell_type": "markdown",
   "metadata": {},
   "source": [
    "This is a demo notebook for a PyTorch implementation of a vanilla recurrent neural network (RNN) character model that classifies the country of origin of a given surname.\n",
    "\n",
    "Before starting we'll need to append the `'./src'` path to `sys.path` so that we can import the source code, based upon running this notebook from the root directory."
   ]
  },
  {
   "cell_type": "code",
   "execution_count": 1,
   "metadata": {},
   "outputs": [],
   "source": [
    "import sys\n",
    "import os\n",
    "\n",
    "sys.path.append(os.path.join('.', 'src'))"
   ]
  },
  {
   "cell_type": "code",
   "execution_count": 2,
   "metadata": {},
   "outputs": [],
   "source": [
    "# Import modules from src directory.\n",
    "import app\n",
    "import utils\n",
    "\n",
    "import matplotlib.pyplot as plt\n",
    "%matplotlib inline"
   ]
  },
  {
   "cell_type": "markdown",
   "metadata": {},
   "source": [
    "First, extract the names for different languages (each language with its own distinct `.txt` file) from `./data/names`, using the `utils.TextFileLoader` class. Then generate a dictionary of the data using its `.createDict()` method."
   ]
  },
  {
   "cell_type": "code",
   "execution_count": 3,
   "metadata": {},
   "outputs": [
    {
     "name": "stdout",
     "output_type": "stream",
     "text": [
      "['Adamidis', 'Adamou', 'Agelakos', 'Akrivopoulos', 'Alexandropoulos', 'Anetakis', 'Angelopoulos', 'Antimisiaris', 'Antipas', 'Antonakos']\n"
     ]
    }
   ],
   "source": [
    "loader = utils.TextFileLoader(os.path.join('data', 'names'))\n",
    "data = loader.createDict()\n",
    "\n",
    "# Print the first ten surnames of the dataset designated as Greek.\n",
    "print(data['Greek'][:10])"
   ]
  },
  {
   "cell_type": "markdown",
   "metadata": {},
   "source": [
    "Then load this data into the `src.ModelHandler` class. We need to specify a string containing each of the allowed ASCII characters (which can be pulled from a static variable in `utils.TextFileLoader`), along with the number of hidden layers for the RNN model."
   ]
  },
  {
   "cell_type": "code",
   "execution_count": 4,
   "metadata": {},
   "outputs": [
    {
     "name": "stdout",
     "output_type": "stream",
     "text": [
      "Allowed characters for model: abcdefghijklmnopqrstuvwxyzABCDEFGHIJKLMNOPQRSTUVWXYZ .,;'\n"
     ]
    }
   ],
   "source": [
    "handler = app.ModelHandler(data, loader.all_letters, n_hidden=128)\n",
    "\n",
    "# Print allowed characters.\n",
    "print('Allowed characters for model: {}'.format(loader.all_letters))"
   ]
  },
  {
   "cell_type": "markdown",
   "metadata": {},
   "source": [
    "Now we train the model. It'll pick a random name from the training set along with its ground truth language to conduct backprop with for a defined number of iterations."
   ]
  },
  {
   "cell_type": "code",
   "execution_count": 5,
   "metadata": {},
   "outputs": [
    {
     "name": "stdout",
     "output_type": "stream",
     "text": [
      "Completed training iteration 0\n",
      "Completed training iteration 1000\n",
      "Completed training iteration 2000\n",
      "Completed training iteration 3000\n",
      "Completed training iteration 4000\n",
      "Completed training iteration 5000\n",
      "Completed training iteration 6000\n",
      "Completed training iteration 7000\n",
      "Completed training iteration 8000\n",
      "Completed training iteration 9000\n",
      "Training completed!\n"
     ]
    }
   ],
   "source": [
    "losses = handler.train(n_iter=10000, learning_rate=0.005)\n",
    "y_raw = [i[1] for i in losses]"
   ]
  },
  {
   "cell_type": "markdown",
   "metadata": {},
   "source": [
    "Now we can plot a moving average of the loss on each training example for each iteration."
   ]
  },
  {
   "cell_type": "code",
   "execution_count": 6,
   "metadata": {},
   "outputs": [],
   "source": [
    "def moving_average(y_array, n_average=10):\n",
    "    # Initialise iteration number list, moving average list, and counter utility variable.\n",
    "    iter_x = list()\n",
    "    average_y = list()\n",
    "    i = 0\n",
    "    \n",
    "    try:\n",
    "        while True:\n",
    "            # Get the sample for this average.\n",
    "            sample_i = y_array[i*n_average : (i+1)*n_average]\n",
    "            # Calculate average (sum / count).\n",
    "            avg_i = sum(sample_i) / float(len(sample_i))\n",
    "            # Update x and y.\n",
    "            average_y.append(avg_i)\n",
    "            iter_x.append(i * n_average + 1)\n",
    "            i += 1\n",
    "    except(IndexError, ZeroDivisionError) as e:\n",
    "        return iter_x, average_y"
   ]
  },
  {
   "cell_type": "code",
   "execution_count": 7,
   "metadata": {},
   "outputs": [],
   "source": [
    "# Process a 100-step moving average of the training results.\n",
    "x, y = moving_average(y_raw, n_average=100)"
   ]
  },
  {
   "cell_type": "code",
   "execution_count": 8,
   "metadata": {},
   "outputs": [
    {
     "data": {
      "text/plain": [
       "[<matplotlib.lines.Line2D at 0x10bbcbcc0>]"
      ]
     },
     "execution_count": 8,
     "metadata": {},
     "output_type": "execute_result"
    },
    {
     "data": {
      "image/png": "[encoded data removed]",
      "text/plain": [
       "<Figure size 432x288 with 1 Axes>"
      ]
     },
     "metadata": {},
     "output_type": "display_data"
    }
   ],
   "source": [
    "plt.plot(x, y, 'rx')"
   ]
  },
  {
   "cell_type": "markdown",
   "metadata": {},
   "source": [
    "We can see here a reduction in the loss on the prediction of each training sample upon successive training iterations of the network, albeit with an increasing variance."
   ]
  },
  {
   "cell_type": "markdown",
   "metadata": {},
   "source": [
    "Finally, let's see how we can see how well this model predicts after the short spell of 10,000 training iterations. We'll invoke the `.predict()` method with the name *Konstantinidis*, which has a ground truth category of *Greek*. This method will print the top predictions and the negative log-likelihood (NLL) for each prediction. A higher NLL means greater confidence."
   ]
  },
  {
   "cell_type": "code",
   "execution_count": 9,
   "metadata": {},
   "outputs": [
    {
     "name": "stdout",
     "output_type": "stream",
     "text": [
      "Top 3 origin predictions for Konstantinidis:\n",
      "(-0.35) Greek\n",
      "(-3.19) Polish\n",
      "(-3.31) Russian\n"
     ]
    },
    {
     "data": {
      "text/plain": [
       "[[-0.35196518898010254, 'Greek'],\n",
       " [-3.185037851333618, 'Polish'],\n",
       " [-3.308911085128784, 'Russian']]"
      ]
     },
     "execution_count": 9,
     "metadata": {},
     "output_type": "execute_result"
    }
   ],
   "source": [
    "handler.predict('Konstantinidis', top_predictions=3)"
   ]
  },
  {
   "cell_type": "markdown",
   "metadata": {},
   "source": [
    "We can see that the RNN comfortably predicts *Konstantinidis* correctly."
   ]
  }
 ],
 "metadata": {
  "kernelspec": {
   "display_name": "Python 3",
   "language": "python",
   "name": "python3"
  },
  "language_info": {
   "codemirror_mode": {
    "name": "ipython",
    "version": 3
   },
   "file_extension": ".py",
   "mimetype": "text/x-python",
   "name": "python",
   "nbconvert_exporter": "python",
   "pygments_lexer": "ipython3",
   "version": "3.6.4"
  }
 },
 "nbformat": 4,
 "nbformat_minor": 2
}
