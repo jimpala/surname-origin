{
 "cells": [
  {
   "cell_type": "markdown",
   "metadata": {},
   "source": [
    "# surname-origin // Notebook Demo"
   ]
  },
  {
   "cell_type": "markdown",
   "metadata": {},
   "source": [
    "This is a demo notebook for a PyTorch implementation of a vanilla RNN character model that classifies the country of origin of a given surname.\n",
    "\n",
    "Before starting we'll need to append the `'./src'` path to `sys.path` so that we can import the source code, if we're running this notebook from the root directory."
   ]
  },
  {
   "cell_type": "code",
   "execution_count": 1,
   "metadata": {},
   "outputs": [],
   "source": [
    "import sys\n",
    "import os\n",
    "\n",
    "sys.path.append(os.path.join('.', 'src'))"
   ]
  },
  {
   "cell_type": "code",
   "execution_count": 2,
   "metadata": {},
   "outputs": [],
   "source": [
    "# Import modules from src directory.\n",
    "import app\n",
    "import utils\n",
    "\n",
    "import matplotlib.pyplot as plt\n",
    "%matplotlib inline"
   ]
  },
  {
   "cell_type": "markdown",
   "metadata": {},
   "source": [
    "First, extract the names for different languages (each language with its own distinct `.txt` file) from `./data/names`, using the `utils.TextFileLoader` class. Then generate a dictionary of the data using its `.createDict()` method."
   ]
  },
  {
   "cell_type": "code",
   "execution_count": 3,
   "metadata": {},
   "outputs": [
    {
     "name": "stdout",
     "output_type": "stream",
     "text": [
      "['Adamidis', 'Adamou', 'Agelakos', 'Akrivopoulos', 'Alexandropoulos', 'Anetakis', 'Angelopoulos', 'Antimisiaris', 'Antipas', 'Antonakos']\n"
     ]
    }
   ],
   "source": [
    "loader = utils.TextFileLoader(os.path.join('data', 'names'))\n",
    "data = loader.createDict()\n",
    "\n",
    "# Print the first ten surnames of the dataset designated as Greek.\n",
    "print(data['Greek'][:10])"
   ]
  },
  {
   "cell_type": "markdown",
   "metadata": {},
   "source": [
    "Then load this data into the `src.ModelHandler` class. We need to specify a string containing each of the allowed ASCII characters (which can be pulled from a static variable in `utils.TextFileLoader`), along with the number of hidden layers for the RNN model."
   ]
  },
  {
   "cell_type": "code",
   "execution_count": 4,
   "metadata": {},
   "outputs": [
    {
     "name": "stdout",
     "output_type": "stream",
     "text": [
      "Allowed characters for model: abcdefghijklmnopqrstuvwxyzABCDEFGHIJKLMNOPQRSTUVWXYZ .,;'\n"
     ]
    }
   ],
   "source": [
    "handler = app.ModelHandler(data, loader.all_letters, n_hidden=128)\n",
    "\n",
    "# Print allowed characters.\n",
    "print('Allowed characters for model: {}'.format(loader.all_letters))"
   ]
  },
  {
   "cell_type": "markdown",
   "metadata": {},
   "source": [
    "Now we train the model. It'll pick a random name from the training set along with its ground truth language to conduct backprop with for a defined number of iterations."
   ]
  },
  {
   "cell_type": "code",
   "execution_count": 5,
   "metadata": {},
   "outputs": [
    {
     "name": "stdout",
     "output_type": "stream",
     "text": [
      "Completed training step 1\n",
      "Completed training step 101\n",
      "Completed training step 201\n",
      "Completed training step 301\n",
      "Completed training step 401\n",
      "Completed training step 501\n",
      "Completed training step 601\n",
      "Completed training step 701\n",
      "Completed training step 801\n",
      "Completed training step 901\n",
      "Completed training step 1001\n",
      "Completed training step 1101\n",
      "Completed training step 1201\n",
      "Completed training step 1301\n",
      "Completed training step 1401\n",
      "Completed training step 1501\n",
      "Completed training step 1601\n",
      "Completed training step 1701\n",
      "Completed training step 1801\n",
      "Completed training step 1901\n",
      "Completed training step 2001\n",
      "Completed training step 2101\n",
      "Completed training step 2201\n",
      "Completed training step 2301\n",
      "Completed training step 2401\n",
      "Completed training step 2501\n",
      "Completed training step 2601\n",
      "Completed training step 2701\n",
      "Completed training step 2801\n",
      "Completed training step 2901\n",
      "Completed training step 3001\n",
      "Completed training step 3101\n",
      "Completed training step 3201\n",
      "Completed training step 3301\n",
      "Completed training step 3401\n",
      "Completed training step 3501\n",
      "Completed training step 3601\n",
      "Completed training step 3701\n",
      "Completed training step 3801\n",
      "Completed training step 3901\n",
      "Completed training step 4001\n",
      "Completed training step 4101\n",
      "Completed training step 4201\n",
      "Completed training step 4301\n",
      "Completed training step 4401\n",
      "Completed training step 4501\n",
      "Completed training step 4601\n",
      "Completed training step 4701\n",
      "Completed training step 4801\n",
      "Completed training step 4901\n",
      "Completed training step 5001\n",
      "Completed training step 5101\n",
      "Completed training step 5201\n",
      "Completed training step 5301\n",
      "Completed training step 5401\n",
      "Completed training step 5501\n",
      "Completed training step 5601\n",
      "Completed training step 5701\n",
      "Completed training step 5801\n",
      "Completed training step 5901\n",
      "Completed training step 6001\n",
      "Completed training step 6101\n",
      "Completed training step 6201\n",
      "Completed training step 6301\n",
      "Completed training step 6401\n",
      "Completed training step 6501\n",
      "Completed training step 6601\n",
      "Completed training step 6701\n",
      "Completed training step 6801\n",
      "Completed training step 6901\n",
      "Completed training step 7001\n",
      "Completed training step 7101\n",
      "Completed training step 7201\n",
      "Completed training step 7301\n",
      "Completed training step 7401\n",
      "Completed training step 7501\n",
      "Completed training step 7601\n",
      "Completed training step 7701\n",
      "Completed training step 7801\n",
      "Completed training step 7901\n",
      "Completed training step 8001\n",
      "Completed training step 8101\n",
      "Completed training step 8201\n",
      "Completed training step 8301\n",
      "Completed training step 8401\n",
      "Completed training step 8501\n",
      "Completed training step 8601\n",
      "Completed training step 8701\n",
      "Completed training step 8801\n",
      "Completed training step 8901\n",
      "Completed training step 9001\n",
      "Completed training step 9101\n",
      "Completed training step 9201\n",
      "Completed training step 9301\n",
      "Completed training step 9401\n",
      "Completed training step 9501\n",
      "Completed training step 9601\n",
      "Completed training step 9701\n",
      "Completed training step 9801\n",
      "Completed training step 9901\n"
     ]
    }
   ],
   "source": [
    "losses = handler.train(n_iter=10000, learning_rate=0.005)\n",
    "y_raw = [i[1] for i in losses]"
   ]
  },
  {
   "cell_type": "markdown",
   "metadata": {},
   "source": [
    "Now we can plot a moving average of the loss on each training example for each iteration."
   ]
  },
  {
   "cell_type": "code",
   "execution_count": 9,
   "metadata": {},
   "outputs": [],
   "source": [
    "def moving_average(y_array, n_average=10):\n",
    "    # Initialise iteration number list, moving average list, and counter utility variable.\n",
    "    iter_x = list()\n",
    "    average_y = list()\n",
    "    i = 0\n",
    "    \n",
    "    try:\n",
    "        while True:\n",
    "            sample_i = y_array[i*n_average : (i+1)*n_average]\n",
    "            avg_i = sum(sample_i) / float(len(sample_i))\n",
    "            average_y.append(avg_i)\n",
    "            iter_x.append(i * n_average + 1)\n",
    "            i += 1\n",
    "    except(IndexError, ZeroDivisionError) as e:\n",
    "        return iter_x, average_y"
   ]
  },
  {
   "cell_type": "code",
   "execution_count": 12,
   "metadata": {},
   "outputs": [],
   "source": [
    "# Process a 100-step moving average of the training results.\n",
    "x, y = moving_average(y_raw, n_average=100)"
   ]
  },
  {
   "cell_type": "code",
   "execution_count": 13,
   "metadata": {},
   "outputs": [
    {
     "data": {
      "text/plain": [
       "[<matplotlib.lines.Line2D at 0x1113053c8>]"
      ]
     },
     "execution_count": 13,
     "metadata": {},
     "output_type": "execute_result"
    },
    {
     "data": {
      "image/png": "[encoded data removed]",
      "text/plain": [
       "<Figure size 432x288 with 1 Axes>"
      ]
     },
     "metadata": {},
     "output_type": "display_data"
    }
   ],
   "source": [
    "plt.plot(x, y, 'rx')"
   ]
  },
  {
   "cell_type": "markdown",
   "metadata": {},
   "source": [
    "We can see here a reduction in the loss on the prediction of each training sample upon successive training iterations of the network, albeit with an increasing variance."
   ]
  },
  {
   "cell_type": "code",
   "execution_count": null,
   "metadata": {},
   "outputs": [],
   "source": []
  }
 ],
 "metadata": {
  "kernelspec": {
   "display_name": "Python 3",
   "language": "python",
   "name": "python3"
  },
  "language_info": {
   "codemirror_mode": {
    "name": "ipython",
    "version": 3
   },
   "file_extension": ".py",
   "mimetype": "text/x-python",
   "name": "python",
   "nbconvert_exporter": "python",
   "pygments_lexer": "ipython3",
   "version": "3.6.4"
  }
 },
 "nbformat": 4,
 "nbformat_minor": 2
}
